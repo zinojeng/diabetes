{
  "nbformat": 4,
  "nbformat_minor": 0,
  "metadata": {
    "colab": {
      "provenance": [],
      "include_colab_link": true
    },
    "kernelspec": {
      "name": "python3",
      "display_name": "Python 3"
    },
    "language_info": {
      "name": "python"
    }
  },
  "cells": [
    {
      "cell_type": "markdown",
      "metadata": {
        "id": "view-in-github",
        "colab_type": "text"
      },
      "source": [
        "<a href=\"https://colab.research.google.com/github/zinojeng/diabetes/blob/main/glycemic_index.ipynb\" target=\"_parent\"><img src=\"https://colab.research.google.com/assets/colab-badge.svg\" alt=\"Open In Colab\"/></a>"
      ]
    },
    {
      "cell_type": "markdown",
      "source": [
        "## Glycemic Index Recommendation using Google's Gemini Pro Vision | Python | Google AI Studio\n",
        "\n",
        "[**Link to my YouTube Channel**](https://www.youtube.com/BhaveshBhatt8791?sub_confirmation=1)\n",
        "\n",
        "Click on the link below to open a Colab version of the notebook. You will be able to create your own version."
      ],
      "metadata": {
        "id": "g1va5YGucMBr"
      }
    },
    {
      "cell_type": "markdown",
      "source": [
        "<a href=\"https://colab.research.google.com/github/bhattbhavesh91/glycemic-index-google-gemini/blob/main/glycemic-index-notebook.ipynb\" target=\"_blank\"><img height=\"40\" alt=\"Run your own notebook in Colab\" src = \"https://colab.research.google.com/assets/colab-badge.svg\"></a>"
      ],
      "metadata": {
        "id": "ZpFI4r4VcRsN"
      }
    },
    {
      "cell_type": "markdown",
      "source": [
        "# Installation"
      ],
      "metadata": {
        "id": "J62Ed6jNukYW"
      }
    },
    {
      "cell_type": "code",
      "source": [
        "!pip install -q google-generativeai==0.3.1\n",
        "!pip install -q gradio"
      ],
      "metadata": {
        "id": "CmIAwGt-ko5i"
      },
      "execution_count": null,
      "outputs": []
    },
    {
      "cell_type": "markdown",
      "source": [
        "# Imports"
      ],
      "metadata": {
        "id": "YKHL6-D5uoBT"
      }
    },
    {
      "cell_type": "code",
      "source": [
        "import google.generativeai as genai\n",
        "from pathlib import Path\n",
        "import gradio as gr"
      ],
      "metadata": {
        "id": "Ad7x23Khq65P"
      },
      "execution_count": 2,
      "outputs": []
    },
    {
      "cell_type": "markdown",
      "source": [
        "# Version"
      ],
      "metadata": {
        "id": "i6Nu9YMGupE_"
      }
    },
    {
      "cell_type": "code",
      "source": [
        "genai.__version__"
      ],
      "metadata": {
        "id": "HFVBV3vAqUQS",
        "colab": {
          "base_uri": "https://localhost:8080/",
          "height": 35
        },
        "outputId": "c46c758e-5df8-41b5-a31f-848d797179bf"
      },
      "execution_count": 3,
      "outputs": [
        {
          "output_type": "execute_result",
          "data": {
            "text/plain": [
              "'0.3.1'"
            ],
            "application/vnd.google.colaboratory.intrinsic+json": {
              "type": "string"
            }
          },
          "metadata": {},
          "execution_count": 3
        }
      ]
    },
    {
      "cell_type": "markdown",
      "source": [
        "验证下是否安装正确"
      ],
      "metadata": {
        "id": "lberwfIY2ahA"
      }
    },
    {
      "cell_type": "code",
      "source": [
        "for m in genai.list_models():\n",
        "  if 'generateContent' in m.supported_generation_methods:\n",
        "    print(m.name)"
      ],
      "metadata": {
        "colab": {
          "base_uri": "https://localhost:8080/",
          "height": 51
        },
        "id": "9HuT6fDr2XpW",
        "outputId": "c3aeba57-5dfa-4eca-8a5f-526453976ede"
      },
      "execution_count": 5,
      "outputs": [
        {
          "output_type": "stream",
          "name": "stdout",
          "text": [
            "models/gemini-pro\n",
            "models/gemini-pro-vision\n"
          ]
        }
      ]
    },
    {
      "cell_type": "markdown",
      "source": [
        "# Secret Key"
      ],
      "metadata": {
        "id": "Hk9ttrymuqs3"
      }
    },
    {
      "cell_type": "code",
      "source": [
        "from google.colab import userdata\n",
        "\n",
        "genai.configure(api_key = userdata.get('GEMINI_KEY'))"
      ],
      "metadata": {
        "id": "Hiho5AC_l-rl"
      },
      "execution_count": 4,
      "outputs": []
    },
    {
      "cell_type": "markdown",
      "source": [
        "# Configurations"
      ],
      "metadata": {
        "id": "SW4mMVLhusW9"
      }
    },
    {
      "cell_type": "code",
      "source": [
        "# Set up the model\n",
        "generation_config = {\n",
        "  \"temperature\": 0.4,\n",
        "  \"top_p\": 1,\n",
        "  \"top_k\": 32,\n",
        "  \"max_output_tokens\": 4096,\n",
        "}\n",
        "\n",
        "safety_settings = [\n",
        "  {\n",
        "    \"category\": \"HARM_CATEGORY_HARASSMENT\",\n",
        "    \"threshold\": \"BLOCK_MEDIUM_AND_ABOVE\"\n",
        "  },\n",
        "  {\n",
        "    \"category\": \"HARM_CATEGORY_HATE_SPEECH\",\n",
        "    \"threshold\": \"BLOCK_MEDIUM_AND_ABOVE\"\n",
        "  },\n",
        "  {\n",
        "    \"category\": \"HARM_CATEGORY_SEXUALLY_EXPLICIT\",\n",
        "    \"threshold\": \"BLOCK_MEDIUM_AND_ABOVE\"\n",
        "  },\n",
        "  {\n",
        "    \"category\": \"HARM_CATEGORY_DANGEROUS_CONTENT\",\n",
        "    \"threshold\": \"BLOCK_MEDIUM_AND_ABOVE\"\n",
        "  }\n",
        "]"
      ],
      "metadata": {
        "id": "ZJr0xFY0Yosd"
      },
      "execution_count": 6,
      "outputs": []
    },
    {
      "cell_type": "markdown",
      "source": [
        "# Model Instance"
      ],
      "metadata": {
        "id": "CHgH7IzeuuIq"
      }
    },
    {
      "cell_type": "code",
      "source": [
        "model = genai.GenerativeModel(model_name = \"gemini-pro-vision\",\n",
        "                              generation_config = generation_config,\n",
        "                              safety_settings = safety_settings)"
      ],
      "metadata": {
        "id": "TcTI_tbDmQc-"
      },
      "execution_count": 7,
      "outputs": []
    },
    {
      "cell_type": "markdown",
      "source": [
        "# Image Input Function"
      ],
      "metadata": {
        "id": "1S0fg5MUuvyN"
      }
    },
    {
      "cell_type": "code",
      "source": [
        "def input_image_setup(file_loc):\n",
        "    if not (img := Path(file_loc)).exists():\n",
        "        raise FileNotFoundError(f\"Could not find image: {img}\")\n",
        "\n",
        "    image_parts = [\n",
        "        {\n",
        "            \"mime_type\": \"image/jpeg\",\n",
        "            \"data\": Path(file_loc).read_bytes()\n",
        "            }\n",
        "        ]\n",
        "    return image_parts"
      ],
      "metadata": {
        "id": "0E2-Ibrlmsd0"
      },
      "execution_count": 8,
      "outputs": []
    },
    {
      "cell_type": "markdown",
      "source": [
        "# Response Function"
      ],
      "metadata": {
        "id": "UihTlegfux1M"
      }
    },
    {
      "cell_type": "code",
      "source": [
        "def generate_gemini_response(input_prompt, image_loc):\n",
        "\n",
        "    image_prompt = input_image_setup(image_loc)\n",
        "    prompt_parts = [input_prompt, image_prompt[0]]\n",
        "    response = model.generate_content(prompt_parts)\n",
        "    return response.text"
      ],
      "metadata": {
        "id": "BNhHA3DosY9G"
      },
      "execution_count": 9,
      "outputs": []
    },
    {
      "cell_type": "markdown",
      "source": [
        "# Prompt"
      ],
      "metadata": {
        "id": "-mU3ZfiZuzsa"
      }
    },
    {
      "cell_type": "code",
      "source": [
        "input_prompt = \"\"\"\n",
        "As an expert specializing in assessing the suitability of fruits and foods for individuals with diabetes, your task involves analyzing input images featuring various food items. Your first objective is to identify the type of fruit or food present in the image. Subsequently, you must determine the glycemic index and the estimation of calories of the identified item. Based on this glycemic index and calories, provide recommendations on whether individuals with diabetes can include the detected food in their diet. If the food is deemed suitable, specify the recommended quantity for consumption. response all in zh-tw.\n",
        "               \"\"\""
      ],
      "metadata": {
        "id": "jU3d3Lhom7My"
      },
      "execution_count": 12,
      "outputs": []
    },
    {
      "cell_type": "markdown",
      "source": [
        "# Defining the Interface"
      ],
      "metadata": {
        "id": "5DWQeCXkqOmm"
      }
    },
    {
      "cell_type": "code",
      "source": [
        "def upload_file(files):\n",
        "    file_paths = [file.name for file in files]\n",
        "    if file_paths:\n",
        "        response = generate_gemini_response(input_prompt, file_paths[0])\n",
        "    return  file_paths[0], response\n",
        "\n",
        "with gr.Blocks() as demo:\n",
        "    gr.Markdown(\"## 糖尿病飲食建議 by Gemini-pro-vision. \")\n",
        "    gr.Markdown(\"coded by Dr. Tseng, Tungs' Taichung Metroharbor Hospital.\")\n",
        "    file_output = gr.Textbox()\n",
        "    image_output = gr.Image()\n",
        "    combined_output = [image_output, file_output]\n",
        "    upload_button = gr.UploadButton(\"點擊上傳您的食物圖片\",\n",
        "                                    file_types=[\"image\"],\n",
        "                                    file_count=\"multiple\")\n",
        "    upload_button.upload(upload_file, upload_button, combined_output)\n",
        "\n",
        "demo.launch(debug=True, server_port=9001,share=True, inbrowser=True)"
      ],
      "metadata": {
        "id": "xQHjtjaY1c-d"
      },
      "execution_count": null,
      "outputs": []
    },
    {
      "cell_type": "code",
      "source": [
        "!pip install streamlit"
      ],
      "metadata": {
        "id": "_XpoiaDK_yry"
      },
      "execution_count": null,
      "outputs": []
    },
    {
      "cell_type": "code",
      "source": [
        "import streamlit as st\n",
        "from PIL import Image\n",
        "import io\n",
        "\n",
        "# 假設 generate_gemini_response 是您先前定義的函數\n",
        "def generate_gemini_response(input_prompt, file_path):\n",
        "    # 這裡添加您的 generate_gemini_response 函數的內容\n",
        "    return \"Response based on the image\"\n",
        "\n",
        "def upload_file(uploaded_file):\n",
        "    if uploaded_file is not None:\n",
        "        # To read file as bytes:\n",
        "        bytes_data = uploaded_file.getvalue()\n",
        "        image = Image.open(io.BytesIO(bytes_data))\n",
        "        response = generate_gemini_response(\"Your input prompt\", uploaded_file.name)\n",
        "        return uploaded_file.name, image, response\n",
        "    return None, None, None\n",
        "\n",
        "# Streamlit 應用界面\n",
        "def main():\n",
        "    st.title(\"糖尿病飲食建議 by Gemini-pro-vision.\")\n",
        "    st.markdown(\"coded by Dr. Tseng, Tungs' Taichung Metroharbor Hospital.\")\n",
        "\n",
        "    uploaded_file = st.file_uploader(\"點擊上傳您的食物圖片\", type=[\"png\", \"jpg\", \"jpeg\"])\n",
        "    file_name, image, response = upload_file(uploaded_file)\n",
        "\n",
        "    if file_name is not None:\n",
        "        st.image(image, caption=file_name)\n",
        "        st.text(response)\n",
        "\n",
        "# 執行 Streamlit 應用\n",
        "if __name__ == \"__main__\":\n",
        "    main()\n"
      ],
      "metadata": {
        "colab": {
          "base_uri": "https://localhost:8080/"
        },
        "id": "2-CP3cZm_v5X",
        "outputId": "d4b092b1-161c-4138-c488-2585c0af0830"
      },
      "execution_count": 23,
      "outputs": [
        {
          "output_type": "stream",
          "name": "stderr",
          "text": [
            "2024-01-04 19:42:23.433 \n",
            "  \u001b[33m\u001b[1mWarning:\u001b[0m to view this Streamlit app on a browser, run it with the following\n",
            "  command:\n",
            "\n",
            "    streamlit run /usr/local/lib/python3.10/dist-packages/colab_kernel_launcher.py [ARGUMENTS]\n"
          ]
        }
      ]
    }
  ]
}