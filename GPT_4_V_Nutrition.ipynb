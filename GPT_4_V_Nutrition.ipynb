{
  "nbformat": 4,
  "nbformat_minor": 0,
  "metadata": {
    "colab": {
      "private_outputs": true,
      "provenance": [],
      "authorship_tag": "ABX9TyPjPNvODkRJPS6RlqgG7a7g",
      "include_colab_link": true
    },
    "kernelspec": {
      "name": "python3",
      "display_name": "Python 3"
    },
    "language_info": {
      "name": "python"
    }
  },
  "cells": [
    {
      "cell_type": "markdown",
      "metadata": {
        "id": "view-in-github",
        "colab_type": "text"
      },
      "source": [
        "<a href=\"https://colab.research.google.com/github/zinojeng/diabetes/blob/main/GPT_4_V_Nutrition.ipynb\" target=\"_parent\"><img src=\"https://colab.research.google.com/assets/colab-badge.svg\" alt=\"Open In Colab\"/></a>"
      ]
    },
    {
      "cell_type": "code",
      "execution_count": null,
      "metadata": {
        "id": "unjhZZhO6RBn"
      },
      "outputs": [],
      "source": [
        "!pip install \"openai>=1\""
      ]
    },
    {
      "cell_type": "code",
      "source": [
        "from getpass import getpass\n",
        "openai_api_key = getpass('請輸入你的 OpenAI API Key: ')"
      ],
      "metadata": {
        "id": "hMXtflL3XJFB"
      },
      "execution_count": null,
      "outputs": []
    },
    {
      "cell_type": "code",
      "source": [
        "from openai import OpenAI\n",
        "\n",
        "client = OpenAI()\n",
        "\n",
        "response = client.chat.completions.create(\n",
        "    model=\"gpt-4-vision-preview\",\n",
        "    messages=[\n",
        "        {\n",
        "            \"role\": \"user\",\n",
        "            \"content\": [\n",
        "                {\n",
        "                    \"type\": \"text\",\n",
        "                    \"text\": \"calculate the calories of each graph in detail; and Roughly calculate the ratio of three major nutrients, including carbohydrates, proteins, and fats of the whole calories. calculate ratio of macronutrientsas from each food. Analyze each food step by step and Answer as detail as you can. response in zh-tw\"\n",
        "                },\n",
        "                {\n",
        "                    \"type\": \"image_url\",\n",
        "                    \"image_url\": \"https://i.imgur.com/AJOk7zq.jpg\",\n",
        "                },\n",
        "                {\n",
        "                    \"type\": \"image_url\",\n",
        "                    \"image_url\": \"https://i.imgur.com/u7ls3sl.jpg\",\n",
        "                },\n",
        "                {\n",
        "                    \"type\": \"image_url\",\n",
        "                    \"image_url\": \"https://i.imgur.com/Np7sIJA.jpg\",\n",
        "                },\n",
        "                {\n",
        "                    \"type\": \"image_url\",\n",
        "                    \"image_url\": \"https://i.imgur.com/LxzQmvX.jpg\",\n",
        "                },\n",
        "                {\n",
        "                    \"type\": \"image_url\",\n",
        "                    \"image_url\": \"https://i.imgur.com/xH0pPZ1.jpg\",\n",
        "                },\n",
        "            ],\n",
        "        },\n",
        "        {\n",
        "            \"role\": \"system\",\n",
        "            \"content\": \"You are a dietician speciazlied in calories calculation and health diet recommendation\",\n",
        "\n",
        "        }\n",
        "    ],\n",
        "    max_tokens=4096,\n",
        ")"
      ],
      "metadata": {
        "id": "NRLL0Oeb667_"
      },
      "execution_count": null,
      "outputs": []
    },
    {
      "cell_type": "code",
      "source": [
        "out = response.choices[0].message.content\n",
        "print(out)"
      ],
      "metadata": {
        "id": "AHjGR34L9Lth"
      },
      "execution_count": null,
      "outputs": []
    },
    {
      "cell_type": "markdown",
      "source": [
        "\n",
        "# **Chain of Thought**\n",
        "\n",
        "相互連接和基於彼此的思想或觀點，形成一個有進展的和有邏輯的思考過程"
      ],
      "metadata": {
        "id": "Em-F5SXrV44N"
      }
    },
    {
      "cell_type": "code",
      "source": [
        "from openai import OpenAI\n",
        "\n",
        "client = OpenAI()\n",
        "\n",
        "system_prompt = \"\"\"Let's think step by step like a dietican profressors and analyzing the image_url I provided.\\n\n",
        "          You will write down your thinking as detail as you can.\"\"\"\n",
        "\n",
        "user_prompt = \"\"\"calculate the calories of each graph in detail; and calculate the ratio of three major nutrients, including carbohydrates, proteins, and fats of the whole calories. \\n\n",
        "          calculate ratio of macronutrientsas from each food. Analyze each food step by step and Answer as detail as you can and answer in zh-tw.\"\"\"\n",
        "\n",
        "messages = [\n",
        "  { \"role\": \"system\", \"content\": system_prompt},\n",
        "  { \"role\": \"user\",\n",
        "    \"content\": [\n",
        "          {\"type\": \"text\", \"text\": user_prompt},\n",
        "          {\n",
        "            \"type\": \"image_url\",\n",
        "            \"image_url\": \"https://i.imgur.com/AJOk7zq.jpg\"\n",
        "          },\n",
        "      ]\n",
        "  }\n",
        "]\n",
        "\n",
        "\n",
        "response = client.chat.completions.create(\n",
        "    model=\"gpt-4-vision-preview\",\n",
        "    messages=messages,\n",
        "    max_tokens=4096,\n",
        "    )\n",
        "\n",
        "print(response.choices[0].message.content)"
      ],
      "metadata": {
        "id": "ngDm1yo2A4qR"
      },
      "execution_count": null,
      "outputs": []
    },
    {
      "cell_type": "markdown",
      "source": [
        "# **Tree-of-Thought Prompting**\n",
        "\n",
        "透過多專家的推理途徑和自我評估選擇來進行有意義的決策"
      ],
      "metadata": {
        "id": "DwJdNVC8WH_R"
      }
    },
    {
      "cell_type": "code",
      "source": [
        "from openai import OpenAI\n",
        "\n",
        "client = OpenAI()\n",
        "\n",
        "system_prompt = \"\"\"Imagine three different dietian expertes are analyze the image_url and think step by step.\n",
        "  All experts will write down 1 step of their thinking, then share it with the group.\n",
        "  Then all experts will go on to the next step, etc.\n",
        "  If any expert realises they're wrong at any point then they leave.\n",
        "  The image_url is... \"\"\"\n",
        "\n",
        "user_prompt = \"\"\"calculate the calories of each graph in detail; and calculate the ratio of three major nutrients, including carbohydrates, proteins, and fats of the whole calories. \\n\n",
        "          calculate ratio of macronutrientsas from each food. Analyze each food step by step and Answer as detail as you can and answer in zh-tw.\"\"\"\n",
        "\n",
        "messages = [\n",
        "  { \"role\": \"system\", \"content\": system_prompt},\n",
        "  { \"role\": \"user\",\n",
        "    \"content\": [\n",
        "          {\"type\": \"text\", \"text\": user_prompt},\n",
        "          {\n",
        "            \"type\": \"image_url\",\n",
        "            \"image_url\": \"https://i.imgur.com/AJOk7zq.jpg\"\n",
        "          },\n",
        "      ]\n",
        "  }\n",
        "]\n",
        "\n",
        "\n",
        "response = client.chat.completions.create(\n",
        "    model=\"gpt-4-vision-preview\",\n",
        "    messages=messages,\n",
        "    max_tokens=4096,\n",
        "    )\n",
        "\n",
        "print(response.choices[0].message.content)"
      ],
      "metadata": {
        "id": "8JBrNgB7BJBf"
      },
      "execution_count": null,
      "outputs": []
    }
  ]
}